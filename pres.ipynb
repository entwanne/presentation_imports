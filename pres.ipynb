{
 "cells": [
  {
   "cell_type": "markdown",
   "metadata": {
    "scrolled": true,
    "slideshow": {
     "slide_type": "slide"
    }
   },
   "source": [
    "# La mécanique des imports\n",
    "#### <div align=\"right\">Antoine \"entwanne\" Rozo</div>\n",
    "\n",
    "<div align=\"right\"><img src=\"img/schtroumpf_flat_rounded.png\" style=\"width: 5em;\" /></div>\n",
    "\n",
    "<div align=\"right\"><img src=\"img/cc_by_sa.svg\" style=\"width: 5em;\" /></div>"
   ]
  },
  {
   "cell_type": "code",
   "execution_count": 1,
   "metadata": {
    "scrolled": true,
    "slideshow": {
     "slide_type": "skip"
    }
   },
   "outputs": [],
   "source": [
    "%%code_wrap modules_cache\n",
    "import sys\n",
    "__modules = sys.modules.copy()\n",
    "__code__\n",
    "sys.modules.clear()\n",
    "sys.modules.update(__modules)\n",
    "del __modules\n",
    "__ret__"
   ]
  },
  {
   "cell_type": "markdown",
   "metadata": {
    "scrolled": true,
    "slideshow": {
     "slide_type": "-"
    }
   },
   "source": [
    " "
   ]
  },
  {
   "cell_type": "code",
   "execution_count": 2,
   "metadata": {
    "scrolled": true,
    "slideshow": {
     "slide_type": "skip"
    }
   },
   "outputs": [
    {
     "name": "stdout",
     "output_type": "stream",
     "text": [
      "Found existing installation: requests 2.32.3\n",
      "Uninstalling requests-2.32.3:\n",
      "  Successfully uninstalled requests-2.32.3\n"
     ]
    },
    {
     "data": {
      "text/plain": [
       "0"
      ]
     },
     "execution_count": 2,
     "metadata": {},
     "output_type": "execute_result"
    }
   ],
   "source": [
    "import os, shutil\n",
    "try:\n",
    "    shutil.rmtree('generated')\n",
    "except:\n",
    "    pass\n",
    "shutil.copytree('snippets', 'generated')\n",
    "os.chdir('generated')\n",
    "os.system('pip uninstall -y requests')"
   ]
  },
  {
   "cell_type": "markdown",
   "metadata": {
    "scrolled": true,
    "slideshow": {
     "slide_type": "subslide"
    }
   },
   "source": [
    "## La mécanique des imports\n",
    "\n",
    "* Comprendre ce qu'il se passe lors d'un import\n",
    "* Interférer sur la découverte des modules\n",
    "* Modifier le comportement de l'import"
   ]
  },
  {
   "cell_type": "markdown",
   "metadata": {
    "scrolled": true,
    "slideshow": {
     "slide_type": "-"
    }
   },
   "source": [
    "* <https://github.com/entwanne/presentation_imports>"
   ]
  },
  {
   "cell_type": "markdown",
   "metadata": {
    "scrolled": true,
    "slideshow": {
     "slide_type": "slide"
    }
   },
   "source": [
    "# Qu'est-ce qu'un import ?"
   ]
  },
  {
   "cell_type": "markdown",
   "metadata": {
    "scrolled": true,
    "slideshow": {
     "slide_type": "subslide"
    }
   },
   "source": [
    "## Qu'est-ce qu'un import ?\n",
    "\n",
    "- Que se passe-t-il quand on fait un `import my_module` ?"
   ]
  },
  {
   "cell_type": "code",
   "execution_count": 3,
   "metadata": {
    "scrolled": true,
    "slideshow": {
     "slide_type": "-"
    }
   },
   "outputs": [
    {
     "data": {
      "text/plain": [
       "<module 'my_module' from '/home/antoine/Perso/presentation_imports/generated/my_module.py'>"
      ]
     },
     "execution_count": 3,
     "metadata": {},
     "output_type": "execute_result"
    }
   ],
   "source": [
    "import my_module\n",
    "my_module"
   ]
  },
  {
   "cell_type": "markdown",
   "metadata": {
    "scrolled": true,
    "slideshow": {
     "slide_type": "fragment"
    }
   },
   "source": [
    "- Cela équivaut à un appel à la fonction `__import__` avec le nom du module en argument\n",
    "- Dont le retour est stocké dans le nom indiqué"
   ]
  },
  {
   "cell_type": "code",
   "execution_count": 4,
   "metadata": {
    "scrolled": true,
    "slideshow": {
     "slide_type": "-"
    }
   },
   "outputs": [
    {
     "data": {
      "text/plain": [
       "<module 'my_module' from '/home/antoine/Perso/presentation_imports/generated/my_module.py'>"
      ]
     },
     "execution_count": 4,
     "metadata": {},
     "output_type": "execute_result"
    }
   ],
   "source": [
    "my_module = __import__('my_module')\n",
    "my_module"
   ]
  },
  {
   "cell_type": "markdown",
   "metadata": {
    "scrolled": true,
    "slideshow": {
     "slide_type": "subslide"
    }
   },
   "source": [
    "## `importlib`\n",
    "\n",
    "- L'usage de la fonction `__import__` est cependant découragé\n",
    "- `import_module` d'`importlib` offre une interface plus claire, notamment dans le cas de paquets\n",
    "- On préférera alors cette fonction pour un « import programmatique »"
   ]
  },
  {
   "cell_type": "code",
   "execution_count": 5,
   "metadata": {
    "scrolled": true,
    "slideshow": {
     "slide_type": "-"
    }
   },
   "outputs": [
    {
     "data": {
      "text/plain": [
       "<module 'my_module' from '/home/antoine/Perso/presentation_imports/generated/my_module.py'>"
      ]
     },
     "execution_count": 5,
     "metadata": {},
     "output_type": "execute_result"
    }
   ],
   "source": [
    "import importlib\n",
    "\n",
    "my_module = importlib.import_module('my_module')\n",
    "my_module"
   ]
  },
  {
   "cell_type": "markdown",
   "metadata": {
    "scrolled": true,
    "slideshow": {
     "slide_type": "subslide"
    }
   },
   "source": [
    "## Exécution du module\n",
    "\n",
    "- L'import ne fait pas que charger le module\n",
    "- Il en exécute aussi le contenu"
   ]
  },
  {
   "cell_type": "code",
   "execution_count": 6,
   "metadata": {
    "scrolled": true,
    "slideshow": {
     "slide_type": "fragment"
    }
   },
   "outputs": [
    {
     "name": "stdout",
     "output_type": "stream",
     "text": [
      "Writing my_other_module.py\n"
     ]
    }
   ],
   "source": [
    "%%writefile my_other_module.py\n",
    "print('Coucou')"
   ]
  },
  {
   "cell_type": "code",
   "execution_count": 7,
   "metadata": {
    "scrolled": true,
    "slideshow": {
     "slide_type": "-"
    }
   },
   "outputs": [
    {
     "name": "stdout",
     "output_type": "stream",
     "text": [
      "Coucou\n"
     ]
    }
   ],
   "source": [
    "import my_other_module"
   ]
  },
  {
   "cell_type": "markdown",
   "metadata": {
    "scrolled": true,
    "slideshow": {
     "slide_type": "subslide"
    }
   },
   "source": [
    "## Import de paquets et sous-modules\n",
    "\n",
    "- Le mécanisme d'import se charge de résoudre et d'importer les paquets parents\n",
    "    - Ainsi importer `foo.spam.eggs` équivaut à importer `foo` puis `foo.spam` et enfin `foo.spam.eggs`\n",
    "    - Le module `__init__` de chaque paquet est chargé et exécuté"
   ]
  },
  {
   "cell_type": "markdown",
   "metadata": {
    "scrolled": true,
    "slideshow": {
     "slide_type": "subslide"
    }
   },
   "source": [
    "## Import de paquets et sous-modules\n",
    "\n",
    "- Par exemple ici avec une hiérarchie sur 3 niveaux"
   ]
  },
  {
   "cell_type": "code",
   "execution_count": 8,
   "metadata": {
    "scrolled": true,
    "slideshow": {
     "slide_type": "-"
    }
   },
   "outputs": [
    {
     "name": "stdout",
     "output_type": "stream",
     "text": [
      "Writing foo/__init__.py\n"
     ]
    }
   ],
   "source": [
    "%%writefile foo/__init__.py\n",
    "print('Import foo')"
   ]
  },
  {
   "cell_type": "code",
   "execution_count": 9,
   "metadata": {
    "scrolled": true,
    "slideshow": {
     "slide_type": "-"
    }
   },
   "outputs": [
    {
     "name": "stdout",
     "output_type": "stream",
     "text": [
      "Writing foo/spam/__init__.py\n"
     ]
    }
   ],
   "source": [
    "%%writefile foo/spam/__init__.py\n",
    "print('Import foo.spam')"
   ]
  },
  {
   "cell_type": "code",
   "execution_count": 10,
   "metadata": {
    "scrolled": true,
    "slideshow": {
     "slide_type": "-"
    }
   },
   "outputs": [
    {
     "name": "stdout",
     "output_type": "stream",
     "text": [
      "Writing foo/spam/eggs.py\n"
     ]
    }
   ],
   "source": [
    "%%writefile foo/spam/eggs.py\n",
    "print('Import foo.spam.eggs')"
   ]
  },
  {
   "cell_type": "code",
   "execution_count": 11,
   "metadata": {
    "scrolled": true,
    "slideshow": {
     "slide_type": "-"
    }
   },
   "outputs": [
    {
     "name": "stdout",
     "output_type": "stream",
     "text": [
      "Import foo\n",
      "Import foo.spam\n",
      "Import foo.spam.eggs\n"
     ]
    }
   ],
   "source": [
    "import foo.spam.eggs"
   ]
  },
  {
   "cell_type": "markdown",
   "metadata": {
    "scrolled": true,
    "slideshow": {
     "slide_type": "subslide"
    }
   },
   "source": [
    "## Import de paquets et sous-modules\n",
    "\n",
    "- Les imports relatifs (`.`, `..`, etc.) sont aussi résolus par ce mécanisme"
   ]
  },
  {
   "cell_type": "code",
   "execution_count": 12,
   "metadata": {
    "scrolled": true,
    "slideshow": {
     "slide_type": "fragment"
    }
   },
   "outputs": [
    {
     "name": "stdout",
     "output_type": "stream",
     "text": [
      "Writing foo/spam/increment.py\n"
     ]
    }
   ],
   "source": [
    "%%writefile foo/spam/increment.py\n",
    "def increment(x):\n",
    "    return x + 1"
   ]
  },
  {
   "cell_type": "code",
   "execution_count": 13,
   "metadata": {
    "scrolled": true,
    "slideshow": {
     "slide_type": "-"
    }
   },
   "outputs": [
    {
     "name": "stdout",
     "output_type": "stream",
     "text": [
      "Writing foo/spam/relative.py\n"
     ]
    }
   ],
   "source": [
    "%%writefile foo/spam/relative.py\n",
    "from .increment import increment\n",
    "\n",
    "print(increment(5))"
   ]
  },
  {
   "cell_type": "code",
   "execution_count": 14,
   "metadata": {
    "scrolled": true,
    "slideshow": {
     "slide_type": "-"
    }
   },
   "outputs": [
    {
     "name": "stdout",
     "output_type": "stream",
     "text": [
      "Import foo\n",
      "Import foo.spam\n",
      "6\n"
     ]
    }
   ],
   "source": [
    "import foo.spam.relative"
   ]
  },
  {
   "cell_type": "markdown",
   "metadata": {
    "scrolled": true,
    "slideshow": {
     "slide_type": "subslide"
    }
   },
   "source": [
    "## Étapes de l'import\n",
    "\n",
    "- Pour résumer, l'import se déroule en plusieurs étapes :\n",
    "    1. Résolution du nom\n",
    "        - Pour résoudre les imports relatifs\n",
    "        - `importlib.util.resolve_name`\n",
    "    2. Imports récursifs des paquets parents\n",
    "    3. Chargement du module\n",
    "    4. Exécution du code du module"
   ]
  },
  {
   "cell_type": "markdown",
   "metadata": {
    "scrolled": true,
    "slideshow": {
     "slide_type": "slide"
    }
   },
   "source": [
    "# Système de cache"
   ]
  },
  {
   "cell_type": "markdown",
   "metadata": {
    "scrolled": true,
    "slideshow": {
     "slide_type": "subslide"
    }
   },
   "source": [
    "## Système de cache\n",
    "\n",
    "- Mais recharger / réexécuter le module à chaque import serait coûteux\n",
    "- Python utilise alors un cache pour se souvenir des modules précédemment importés\n",
    "- L'import d'un module déjà présent dans le cache peut alors court-circuiter toute la procédure d'import"
   ]
  },
  {
   "cell_type": "markdown",
   "metadata": {
    "scrolled": true,
    "slideshow": {
     "slide_type": "fragment"
    }
   },
   "source": [
    "- `import_module` stocke aussi son résultat dans le cache\n",
    "- Ce cache est accessible via `sys.modules`"
   ]
  },
  {
   "cell_type": "code",
   "execution_count": 15,
   "metadata": {
    "scrolled": true,
    "slideshow": {
     "slide_type": "-"
    }
   },
   "outputs": [
    {
     "data": {
      "text/plain": [
       "{'sys': <module 'sys' (built-in)>,\n",
       " 'builtins': <module 'builtins' (built-in)>,\n",
       " '_frozen_importlib': <module '_frozen_importlib' (frozen)>,\n",
       " '_imp': <module '_imp' (built-in)>,\n",
       " '_thread': <module '_thread' (built-in)>,\n",
       " '_warnings': <module '_warnings' (built-in)>,\n",
       " '_weakref': <module '_weakref' (built-in)>,\n",
       " '_io': <module '_io' (built-in)>,\n",
       " ...}"
      ]
     },
     "execution_count": 15,
     "metadata": {},
     "output_type": "execute_result"
    }
   ],
   "source": [
    "import sys\n",
    "sys.modules"
   ]
  },
  {
   "cell_type": "markdown",
   "metadata": {
    "scrolled": true,
    "slideshow": {
     "slide_type": "subslide"
    }
   },
   "source": [
    "## Système de cache\n",
    "\n",
    "- Changer le code d'un module à la volée ne permet alors pas de le réimporter\n",
    "- À moins d'utiliser `importlib.reload`"
   ]
  },
  {
   "cell_type": "code",
   "execution_count": 16,
   "metadata": {
    "scrolled": true,
    "slideshow": {
     "slide_type": "-"
    }
   },
   "outputs": [
    {
     "name": "stdout",
     "output_type": "stream",
     "text": [
      "Writing rewrite.py\n"
     ]
    }
   ],
   "source": [
    "%%writefile rewrite.py\n",
    "def version():\n",
    "    return 1"
   ]
  },
  {
   "cell_type": "code",
   "execution_count": 17,
   "metadata": {
    "scrolled": true,
    "slideshow": {
     "slide_type": "-"
    }
   },
   "outputs": [
    {
     "name": "stdout",
     "output_type": "stream",
     "text": [
      "before 1\n",
      "after 1\n",
      "reload 2\n"
     ]
    }
   ],
   "source": [
    "import rewrite\n",
    "print('before', rewrite.version())\n",
    "\n",
    "with open('rewrite.py', 'w') as f:\n",
    "    print(\"def version():\\n    return 2\", file=f)\n",
    "\n",
    "import rewrite\n",
    "print('after', rewrite.version())\n",
    "\n",
    "importlib.reload(rewrite)\n",
    "print('reload', rewrite.version())"
   ]
  },
  {
   "cell_type": "markdown",
   "metadata": {
    "scrolled": true,
    "slideshow": {
     "slide_type": "subslide"
    }
   },
   "source": [
    "## Système de cache\n",
    "\n",
    "- Ce système de cache nous permet aussi de :\n",
    "    - Simplement vérifier qu'un module a déjà été importé\n",
    "        - En vérifiant s'il existe dans `sys.modules`\n",
    "    - Nettoyer et/ou falsifier le cache en ajoutant des modules à la volée\n",
    "\n",
    "        ```python\n",
    "        del sys.modules[...]\n",
    "        importlib.reload(...)\n",
    "        sys.modules[...] = ...\n",
    "        ```"
   ]
  },
  {
   "cell_type": "markdown",
   "metadata": {
    "scrolled": true,
    "slideshow": {
     "slide_type": "subslide"
    }
   },
   "source": [
    "## Système de cache\n",
    "\n",
    "- Dans le cadre de la présentation, le cache est nettoyé après chaque bloc de code"
   ]
  },
  {
   "cell_type": "markdown",
   "metadata": {
    "scrolled": true,
    "slideshow": {
     "slide_type": "slide"
    }
   },
   "source": [
    "# Recherche de modules"
   ]
  },
  {
   "cell_type": "markdown",
   "metadata": {
    "scrolled": true,
    "slideshow": {
     "slide_type": "subslide"
    }
   },
   "source": [
    "## Recherche de modules\n",
    "\n",
    "- Pour trouver les modules à importer, Python parcourt la liste `sys.path`"
   ]
  },
  {
   "cell_type": "code",
   "execution_count": 18,
   "metadata": {
    "scrolled": true,
    "slideshow": {
     "slide_type": "-"
    }
   },
   "outputs": [
    {
     "data": {
      "text/plain": [
       "['/usr/lib/python312.zip',\n",
       " '/usr/lib/python3.12',\n",
       " '/usr/lib/python3.12/lib-dynload',\n",
       " '',\n",
       " '/home/antoine/Perso/presentation_imports/env/lib/python3.12/site-packages']"
      ]
     },
     "execution_count": 18,
     "metadata": {},
     "output_type": "execute_result"
    }
   ],
   "source": [
    "sys.path"
   ]
  },
  {
   "cell_type": "markdown",
   "metadata": {
    "scrolled": true,
    "slideshow": {
     "slide_type": "subslide"
    }
   },
   "source": [
    "## Ajouter un répertoire\n",
    "\n",
    "- On peut ainsi ajouter des répertoires dans `sys.path` pour permettre à Python de trouver les modules qui s'y trouvent"
   ]
  },
  {
   "cell_type": "code",
   "execution_count": 19,
   "metadata": {
    "scrolled": true,
    "slideshow": {
     "slide_type": "-"
    }
   },
   "outputs": [
    {
     "ename": "ModuleNotFoundError",
     "evalue": "No module named 'dir_example'",
     "output_type": "error",
     "traceback": [
      "\u001b[0;31m---------------------------------------------------------------------------\u001b[0m",
      "\u001b[0;31mModuleNotFoundError\u001b[0m                       Traceback (most recent call last)",
      "Cell \u001b[0;32mIn[19], line 1\u001b[0m\n\u001b[0;32m----> 1\u001b[0m \u001b[38;5;28;01mimport\u001b[39;00m \u001b[38;5;21;01mdir_example\u001b[39;00m\n",
      "\u001b[0;31mModuleNotFoundError\u001b[0m: No module named 'dir_example'"
     ]
    }
   ],
   "source": [
    "import dir_example"
   ]
  },
  {
   "cell_type": "code",
   "execution_count": 20,
   "metadata": {
    "scrolled": true,
    "slideshow": {
     "slide_type": "-"
    }
   },
   "outputs": [
    {
     "name": "stdout",
     "output_type": "stream",
     "text": [
      "DIR: Hello PyConFR\n"
     ]
    }
   ],
   "source": [
    "sys.path.append('subdirectory')\n",
    "\n",
    "import dir_example\n",
    "dir_example.hello('PyConFR')"
   ]
  },
  {
   "cell_type": "markdown",
   "metadata": {
    "scrolled": true,
    "slideshow": {
     "slide_type": "fragment"
    }
   },
   "source": [
    "- Mais on préférera laisser Python gérer ça par lui-même et utiliser les répertoires d'installation pour rendre nos modules et paquets accessibles"
   ]
  },
  {
   "cell_type": "markdown",
   "metadata": {
    "scrolled": true,
    "slideshow": {
     "slide_type": "subslide"
    }
   },
   "source": [
    "## Ajouter un fichier zip\n",
    "\n",
    "- De la même manière, Python est en mesure d'importer des modules depuis une archive zip"
   ]
  },
  {
   "cell_type": "code",
   "execution_count": 21,
   "metadata": {
    "scrolled": true,
    "slideshow": {
     "slide_type": "-"
    }
   },
   "outputs": [
    {
     "name": "stdout",
     "output_type": "stream",
     "text": [
      "zip_example.py\n",
      "def hello(name):\n",
      "    print('ZIP:', 'Hello', name)\n"
     ]
    }
   ],
   "source": [
    "%%sh\n",
    "zipinfo -1 packages.zip\n",
    "zcat packages.zip"
   ]
  },
  {
   "cell_type": "code",
   "execution_count": 22,
   "metadata": {
    "scrolled": true,
    "slideshow": {
     "slide_type": "-"
    }
   },
   "outputs": [
    {
     "name": "stdout",
     "output_type": "stream",
     "text": [
      "ZIP: Hello PyConFR\n"
     ]
    }
   ],
   "source": [
    "sys.path.append('packages.zip')\n",
    "\n",
    "import zip_example\n",
    "zip_example.hello('PyConFR')"
   ]
  },
  {
   "cell_type": "markdown",
   "metadata": {
    "scrolled": true,
    "slideshow": {
     "slide_type": "subslide"
    }
   },
   "source": [
    "## Ajouter un fichier zip\n",
    "\n",
    "- Ce mécanisme permet aussi de distribuer un paquet comme un zip"
   ]
  },
  {
   "cell_type": "code",
   "execution_count": 23,
   "metadata": {
    "scrolled": true,
    "slideshow": {
     "slide_type": "-"
    }
   },
   "outputs": [
    {
     "name": "stdout",
     "output_type": "stream",
     "text": [
      "Archive:  calc_program.zip\n",
      "Zip file size: 923 bytes, number of entries: 4\n",
      "-rw-r--r--  3.0 unx       71 tx defN 24-Oct-31 07:31 __main__.py\n",
      "-rw-r--r--  3.0 unx       43 tx defN 24-Oct-31 07:32 calc/__init__.py\n",
      "-rw-r--r--  3.0 unx      184 tx defN 24-Oct-31 10:51 calc/__main__.py\n",
      "-rw-r--r--  3.0 unx       43 tx stor 24-Oct-31 07:28 calc/multiplication.py\n",
      "4 files, 341 bytes uncompressed, 259 bytes compressed:  24.0%\n"
     ]
    }
   ],
   "source": [
    "%%sh\n",
    "zipinfo calc_program.zip"
   ]
  },
  {
   "cell_type": "code",
   "execution_count": 24,
   "metadata": {
    "scrolled": true,
    "slideshow": {
     "slide_type": "-"
    }
   },
   "outputs": [
    {
     "name": "stdout",
     "output_type": "stream",
     "text": [
      "12\n"
     ]
    }
   ],
   "source": [
    "%%sh\n",
    "X=3 Y=4 python calc_program.zip"
   ]
  },
  {
   "cell_type": "markdown",
   "metadata": {
    "scrolled": true,
    "slideshow": {
     "slide_type": "slide"
    }
   },
   "source": [
    "# Découverte et chargement de modules"
   ]
  },
  {
   "cell_type": "markdown",
   "metadata": {
    "scrolled": true,
    "slideshow": {
     "slide_type": "subslide"
    }
   },
   "source": [
    "## Découverte et chargement de modules\n",
    "\n",
    "- Python utilise des _finders_ pour découvrir les modules et des _loaders_ pour les charger\n",
    "- `sys.path_hooks` est une liste de callables créant un _finder_ pour chaque entrée de `sys.path`"
   ]
  },
  {
   "cell_type": "code",
   "execution_count": 25,
   "metadata": {
    "scrolled": true,
    "slideshow": {
     "slide_type": "-"
    }
   },
   "outputs": [
    {
     "data": {
      "text/plain": [
       "[zipimport.zipimporter,\n",
       " <function _frozen_importlib_external.FileFinder.path_hook.<locals>.path_hook_for_FileFinder(path)>]"
      ]
     },
     "execution_count": 25,
     "metadata": {},
     "output_type": "execute_result"
    }
   ],
   "source": [
    "sys.path_hooks"
   ]
  },
  {
   "cell_type": "markdown",
   "metadata": {
    "scrolled": true,
    "slideshow": {
     "slide_type": "subslide"
    }
   },
   "source": [
    "## Découverte et chargement de modules\n",
    "\n",
    "- Un _finder_ est un objet possédant une méthode `find_spec`\n",
    "    - Cette méthode prend en argument le nom complet du module\n",
    "    - Elle renvoie une « spécification de module » (`ModuleSpec`), ou `None` si le module n'est pas trouvé"
   ]
  },
  {
   "cell_type": "code",
   "execution_count": 26,
   "metadata": {
    "scrolled": true,
    "slideshow": {
     "slide_type": "-"
    }
   },
   "outputs": [
    {
     "data": {
      "text/plain": [
       "ModuleSpec(name='my_module', loader=<_frozen_importlib_external.SourceFileLoader object at 0x781d5a92fa10>, origin='/home/antoine/Perso/presentation_imports/generated/my_module.py')"
      ]
     },
     "execution_count": 26,
     "metadata": {},
     "output_type": "execute_result"
    }
   ],
   "source": [
    "finder = sys.path_hooks[-1]('.') # Finder sur le répertoire courant\n",
    "finder.find_spec('my_module')"
   ]
  },
  {
   "cell_type": "code",
   "execution_count": 27,
   "metadata": {
    "scrolled": true,
    "slideshow": {
     "slide_type": "-"
    }
   },
   "outputs": [],
   "source": [
    "finder.find_spec('not_found')"
   ]
  },
  {
   "cell_type": "markdown",
   "metadata": {
    "scrolled": true,
    "slideshow": {
     "slide_type": "subslide"
    }
   },
   "source": [
    "## Découverte et chargement de modules\n",
    "\n",
    "- La spécification contient des attributs décrivant le module (`name`, `origin`)"
   ]
  },
  {
   "cell_type": "code",
   "execution_count": 28,
   "metadata": {
    "scrolled": true,
    "slideshow": {
     "slide_type": "-"
    }
   },
   "outputs": [
    {
     "data": {
      "text/plain": [
       "('my_module',\n",
       " '/home/antoine/Perso/presentation_imports/generated/my_module.py')"
      ]
     },
     "execution_count": 28,
     "metadata": {},
     "output_type": "execute_result"
    }
   ],
   "source": [
    "spec = finder.find_spec('my_module')\n",
    "spec.name, spec.origin"
   ]
  },
  {
   "cell_type": "markdown",
   "metadata": {
    "scrolled": true,
    "slideshow": {
     "slide_type": "-"
    }
   },
   "source": [
    "- et un attribut `loader` renvoyant le _loader_ associé à ce type de fichier"
   ]
  },
  {
   "cell_type": "code",
   "execution_count": 29,
   "metadata": {
    "scrolled": true,
    "slideshow": {
     "slide_type": "-"
    }
   },
   "outputs": [
    {
     "data": {
      "text/plain": [
       "<_frozen_importlib_external.SourceFileLoader at 0x781d5a92ff80>"
      ]
     },
     "execution_count": 29,
     "metadata": {},
     "output_type": "execute_result"
    }
   ],
   "source": [
    "spec.loader"
   ]
  },
  {
   "cell_type": "markdown",
   "metadata": {
    "scrolled": true,
    "slideshow": {
     "slide_type": "subslide"
    }
   },
   "source": [
    "## Découverte et chargement de modules\n",
    "\n",
    "- On peut initialiser un module vide à partir de la spec\n",
    "    - cela utilise la méthode `create_module` du _loader_ si elle est définie"
   ]
  },
  {
   "cell_type": "code",
   "execution_count": 30,
   "metadata": {
    "scrolled": true,
    "slideshow": {
     "slide_type": "-"
    }
   },
   "outputs": [
    {
     "data": {
      "text/plain": [
       "dict_keys(['__name__', '__doc__', '__package__', '__loader__', '__spec__', '__file__', '__cached__'])"
      ]
     },
     "execution_count": 30,
     "metadata": {},
     "output_type": "execute_result"
    }
   ],
   "source": [
    "import importlib.util\n",
    "\n",
    "module = importlib.util.module_from_spec(spec)\n",
    "module.__dict__.keys()"
   ]
  },
  {
   "cell_type": "markdown",
   "metadata": {
    "scrolled": true,
    "slideshow": {
     "slide_type": "-"
    }
   },
   "source": [
    "- Et charger le module via la méthode `exec_module` du _loader_"
   ]
  },
  {
   "cell_type": "code",
   "execution_count": 31,
   "metadata": {
    "scrolled": true,
    "slideshow": {
     "slide_type": "-"
    }
   },
   "outputs": [
    {
     "data": {
      "text/plain": [
       "dict_keys(['__name__', '__doc__', '__package__', '__loader__', '__spec__', '__file__', '__cached__', '__builtins__', 'my_function'])"
      ]
     },
     "execution_count": 31,
     "metadata": {},
     "output_type": "execute_result"
    }
   ],
   "source": [
    "spec.loader.exec_module(module)\n",
    "module.__dict__.keys()"
   ]
  },
  {
   "cell_type": "code",
   "execution_count": 32,
   "metadata": {
    "scrolled": true,
    "slideshow": {
     "slide_type": "-"
    }
   },
   "outputs": [
    {
     "data": {
      "text/plain": [
       "True"
      ]
     },
     "execution_count": 32,
     "metadata": {},
     "output_type": "execute_result"
    }
   ],
   "source": [
    ">>> module.my_function()"
   ]
  },
  {
   "cell_type": "markdown",
   "metadata": {
    "scrolled": true,
    "slideshow": {
     "slide_type": "subslide"
    }
   },
   "source": [
    "## Découverte et chargement de modules\n",
    "\n",
    "- Python propose des utilitaires pour gérer différents types de _finders_ et _loaders_\n",
    "- `PathEntryFinder` est un _finder_ dédié pour les entrées de `sys.path`\n",
    "\n",
    "- `SourceLoader` est un _loader_ offrant de facilités pour importer un fichier source\n",
    "    - Un _source loader_ a juste à implémenter des méthodes `get_filename` et `get_data` (qui renvoie le contenu du module sous forme de _bytes_)"
   ]
  },
  {
   "cell_type": "markdown",
   "metadata": {
    "scrolled": true,
    "slideshow": {
     "slide_type": "subslide"
    }
   },
   "source": [
    "## Importer des `.tar.gz`\n",
    "\n",
    "- On peut par exemple ajouter un _loader_ pour gérer les archives `.tar.gz`\n",
    "    - fonctionnant sur le même principe que l'import d'archives `.zip`"
   ]
  },
  {
   "cell_type": "code",
   "execution_count": 33,
   "metadata": {
    "scrolled": true,
    "slideshow": {
     "slide_type": "-"
    }
   },
   "outputs": [
    {
     "name": "stderr",
     "output_type": "stream",
     "text": [
      "tar_example.py\n"
     ]
    },
    {
     "name": "stdout",
     "output_type": "stream",
     "text": [
      "def hello(name):\n",
      "    print('TAR:', 'Hello', name)\n"
     ]
    }
   ],
   "source": [
    "%%sh\n",
    "tar -xzvOf packages.tar.gz"
   ]
  },
  {
   "cell_type": "code",
   "execution_count": 34,
   "metadata": {
    "scrolled": true,
    "slideshow": {
     "slide_type": "-"
    }
   },
   "outputs": [
    {
     "ename": "ModuleNotFoundError",
     "evalue": "No module named 'tar_example'",
     "output_type": "error",
     "traceback": [
      "\u001b[0;31m---------------------------------------------------------------------------\u001b[0m",
      "\u001b[0;31mModuleNotFoundError\u001b[0m                       Traceback (most recent call last)",
      "Cell \u001b[0;32mIn[34], line 3\u001b[0m\n\u001b[1;32m      1\u001b[0m sys\u001b[38;5;241m.\u001b[39mpath\u001b[38;5;241m.\u001b[39mappend(\u001b[38;5;124m'\u001b[39m\u001b[38;5;124mpackages.tar.gz\u001b[39m\u001b[38;5;124m'\u001b[39m)\n\u001b[0;32m----> 3\u001b[0m \u001b[38;5;28;01mimport\u001b[39;00m \u001b[38;5;21;01mtar_example\u001b[39;00m\n\u001b[1;32m      4\u001b[0m tar_example\u001b[38;5;241m.\u001b[39mhello(\u001b[38;5;124m'\u001b[39m\u001b[38;5;124mPyConFR\u001b[39m\u001b[38;5;124m'\u001b[39m)\n",
      "\u001b[0;31mModuleNotFoundError\u001b[0m: No module named 'tar_example'"
     ]
    }
   ],
   "source": [
    "sys.path.append('packages.tar.gz')\n",
    "\n",
    "import tar_example\n",
    "tar_example.hello('PyConFR')"
   ]
  },
  {
   "cell_type": "markdown",
   "metadata": {
    "scrolled": true,
    "slideshow": {
     "slide_type": "subslide"
    }
   },
   "source": [
    "## Importer des `.tar.gz`\n",
    "\n",
    "- Le _finder_ est un `PathEntryFinder` classique"
   ]
  },
  {
   "cell_type": "code",
   "execution_count": 35,
   "metadata": {
    "scrolled": true,
    "slideshow": {
     "slide_type": "-"
    }
   },
   "outputs": [],
   "source": [
    "import importlib.abc\n",
    "import tarfile\n",
    "\n",
    "\n",
    "class ArchiveFinder(importlib.abc.PathEntryFinder):\n",
    "    def __init__(self, path):\n",
    "        self.loader = ArchiveLoader(path)\n",
    "\n",
    "    def find_spec(self, fullname, target=None):\n",
    "        if fullname in self.loader.filenames:\n",
    "            return importlib.util.spec_from_loader(fullname, self.loader)"
   ]
  },
  {
   "cell_type": "markdown",
   "metadata": {
    "scrolled": true,
    "slideshow": {
     "slide_type": "subslide"
    }
   },
   "source": [
    "## Importer des `.tar.gz`\n",
    "\n",
    "- Le _loader_ s'occupe d'ouvrir l'archive, de localiser le module et d'en renvoyer la source"
   ]
  },
  {
   "cell_type": "code",
   "execution_count": 36,
   "metadata": {
    "scrolled": true,
    "slideshow": {
     "slide_type": "-"
    }
   },
   "outputs": [],
   "source": [
    "class ArchiveLoader(importlib.abc.SourceLoader):\n",
    "    def __init__(self, path):\n",
    "        self.archive = tarfile.open(path, mode='r:gz')\n",
    "        self.filenames = {\n",
    "            name.removesuffix('.py'): name\n",
    "            for name in self.archive.getnames()\n",
    "            if name.endswith('.py')\n",
    "        }\n",
    "\n",
    "    def get_data(self, name):\n",
    "        member = self.archive.getmember(name)\n",
    "        fobj = self.archive.extractfile(member)\n",
    "        return fobj.read()\n",
    "\n",
    "    def get_filename(self, name):\n",
    "        return self.filenames[name]"
   ]
  },
  {
   "cell_type": "markdown",
   "metadata": {
    "scrolled": true,
    "slideshow": {
     "slide_type": "subslide"
    }
   },
   "source": [
    "## Importer des `.tar.gz`\n",
    "\n",
    "- Il suffit ensuite de le brancher aux `sys.path_hooks`\n",
    "- Python garde en cache les _hooks_ existants et il faut donc penser à nettoyer le cache"
   ]
  },
  {
   "cell_type": "code",
   "execution_count": 37,
   "metadata": {
    "scrolled": true,
    "slideshow": {
     "slide_type": "-"
    }
   },
   "outputs": [],
   "source": [
    "def archive_path_hook(archive_path):\n",
    "    if archive_path.endswith('.tar.gz'):\n",
    "        return ArchiveFinder(archive_path)\n",
    "    raise ImportError\n",
    "\n",
    "sys.path_hooks.append(archive_path_hook)\n",
    "sys.path_importer_cache.clear()"
   ]
  },
  {
   "cell_type": "code",
   "execution_count": 38,
   "metadata": {
    "scrolled": true,
    "slideshow": {
     "slide_type": "-"
    }
   },
   "outputs": [
    {
     "name": "stdout",
     "output_type": "stream",
     "text": [
      "TAR: Hello PyConFR\n"
     ]
    }
   ],
   "source": [
    "import tar_example\n",
    "tar_example.hello('PyConFR')"
   ]
  },
  {
   "cell_type": "markdown",
   "metadata": {
    "scrolled": true,
    "slideshow": {
     "slide_type": "subslide"
    }
   },
   "source": [
    "## Autres exemples\n",
    "\n",
    "- On peut imaginer d'autres exemples de _path hooks_\n",
    "    - Import depuis tout type d'archive, ou tout ce qui prend la forme d'une collection de fichiers\n",
    "    - Import depuis le réseau (on y reviendra plus tard)"
   ]
  },
  {
   "cell_type": "markdown",
   "metadata": {
    "scrolled": true,
    "slideshow": {
     "slide_type": "slide"
    }
   },
   "source": [
    "# Importer de nouveaux types de fichiers"
   ]
  },
  {
   "cell_type": "markdown",
   "metadata": {
    "scrolled": true,
    "slideshow": {
     "slide_type": "subslide"
    }
   },
   "source": [
    "## Importer de nouveaux types de fichiers\n",
    "\n",
    "- Le _file finder_ par défaut de Python gère l'import de fichiers `.py`, `.pyc` et `.so`/`.dll`\n",
    "    - La classe `FileFinder` est pour cela instanciée en lui précisant les extensions supportées et les _loaders_ associés\n",
    "    - `FileFinder` permet ainsi de gérer d'autres extensions de fichiers avec d'autres _loaders_"
   ]
  },
  {
   "cell_type": "markdown",
   "metadata": {
    "scrolled": true,
    "slideshow": {
     "slide_type": "subslide"
    }
   },
   "source": [
    "## Python++\n",
    "\n",
    "- On peut utiliser le mécanisme des _loaders_ pour étendre la syntaxe de Python\n",
    "    - Par exemple en ajoutant un opérateur d'incrémentation (`++`)\n",
    "    - L'idée serait que `foo++` soit transformé en `(foo := foo + 1)` au chargement du module\n",
    "\n",
    "- `FileLoader` pourra être utilisé avec une transformation de l'entrée\n",
    "    - Il ressemble à `SourceLoader` en plus minimaliste\n",
    "    - On surchargera `get_source` plutôt que `get_data` (qui renvoie le contenu brut)"
   ]
  },
  {
   "cell_type": "markdown",
   "metadata": {
    "scrolled": true,
    "slideshow": {
     "slide_type": "subslide"
    }
   },
   "source": [
    "## Python++\n",
    "\n",
    "- Le _loader_ s'occupe de lire la source et transformer les _tokens_"
   ]
  },
  {
   "cell_type": "code",
   "execution_count": 39,
   "metadata": {
    "scrolled": true,
    "slideshow": {
     "slide_type": "-"
    }
   },
   "outputs": [],
   "source": [
    "import tokenize\n",
    "\n",
    "\n",
    "class BetterPythonLoader(importlib.abc.FileLoader):\n",
    "    def get_source(self, fullname):\n",
    "        path = self.get_filename(fullname)\n",
    "        with open(path, 'rb') as f:\n",
    "            tokens = list(tokenize.tokenize(f.readline))\n",
    "        tokens = transform(tokens)\n",
    "        return tokenize.untokenize(tokens)"
   ]
  },
  {
   "cell_type": "markdown",
   "metadata": {
    "scrolled": true,
    "slideshow": {
     "slide_type": "subslide"
    }
   },
   "source": [
    "## Python++\n",
    "\n",
    "- La transformation consiste à détecter les `+` enchaînés après un nom et à les remplacer par une expression d'incrémentation"
   ]
  },
  {
   "cell_type": "code",
   "execution_count": 40,
   "metadata": {
    "scrolled": true,
    "slideshow": {
     "slide_type": "-"
    }
   },
   "outputs": [],
   "source": [
    "def transform(tokens):\n",
    "    stack = []\n",
    "    for token in tokens:\n",
    "        match token.type:\n",
    "            case tokenize.NAME if not stack:\n",
    "                stack.append(token)\n",
    "            case tokenize.OP if stack and token.string == '+':\n",
    "                if len(stack) < 2:\n",
    "                    stack.append(token)\n",
    "                else:\n",
    "                    yield from increment_token(token, stack)\n",
    "            case _:\n",
    "                yield from stack\n",
    "                stack.clear()\n",
    "                yield token"
   ]
  },
  {
   "cell_type": "markdown",
   "metadata": {
    "scrolled": true,
    "slideshow": {
     "slide_type": "subslide"
    }
   },
   "source": [
    "## Python++\n",
    "\n",
    "- On produit alors les _tokens_ correspondant à cette expression"
   ]
  },
  {
   "cell_type": "code",
   "execution_count": 41,
   "metadata": {
    "scrolled": true,
    "slideshow": {
     "slide_type": "-"
    }
   },
   "outputs": [],
   "source": [
    "def increment_token(token, stack):\n",
    "    name_token = stack.pop(0)\n",
    "    stack.clear()\n",
    "\n",
    "    start = name_token.start\n",
    "    end = token.end\n",
    "    line = name_token.line\n",
    "\n",
    "    yield tokenize.TokenInfo(type=tokenize.OP, string='(', start=start, end=start, line=line)\n",
    "    yield tokenize.TokenInfo(type=tokenize.NAME, string=name_token.string, start=start, end=start, line=line)\n",
    "    yield tokenize.TokenInfo(type=tokenize.OP, string=':=', start=start, end=start, line=line)\n",
    "    yield tokenize.TokenInfo(type=tokenize.NAME, string=name_token.string, start=start, end=start, line=line)\n",
    "    yield tokenize.TokenInfo(type=tokenize.OP, string='+', start=start, end=start, line=line)\n",
    "    yield tokenize.TokenInfo(type=tokenize.NUMBER, string='1', start=start, end=start, line=line)\n",
    "    yield tokenize.TokenInfo(type=tokenize.OP, string=')', start=start, end=end, line=line)"
   ]
  },
  {
   "cell_type": "markdown",
   "metadata": {
    "scrolled": true,
    "slideshow": {
     "slide_type": "subslide"
    }
   },
   "source": [
    "## Python++\n",
    "\n",
    "- Il suffit ensuite de configurer un _finder_ lié à ce _loader_"
   ]
  },
  {
   "cell_type": "code",
   "execution_count": 42,
   "metadata": {
    "scrolled": true,
    "slideshow": {
     "slide_type": "-"
    }
   },
   "outputs": [],
   "source": [
    "path_hook = importlib.machinery.FileFinder.path_hook(\n",
    "    (importlib.machinery.SourceFileLoader, ['.py']),\n",
    "    (BetterPythonLoader, ['.pycc']),\n",
    ")\n",
    "sys.path_hooks.insert(0, path_hook)\n",
    "sys.path_importer_cache.clear()"
   ]
  },
  {
   "cell_type": "markdown",
   "metadata": {
    "scrolled": true,
    "slideshow": {
     "slide_type": "subslide"
    }
   },
   "source": [
    "## Python++\n",
    "\n",
    "- Et de tester !"
   ]
  },
  {
   "cell_type": "code",
   "execution_count": 43,
   "metadata": {
    "scrolled": true,
    "slideshow": {
     "slide_type": "-"
    }
   },
   "outputs": [
    {
     "name": "stdout",
     "output_type": "stream",
     "text": [
      "Writing increment.pycc\n"
     ]
    }
   ],
   "source": [
    "%%writefile increment.pycc\n",
    "def test(x=0):\n",
    "    for _ in range(10):\n",
    "        print(x++)"
   ]
  },
  {
   "cell_type": "code",
   "execution_count": 44,
   "metadata": {
    "scrolled": true,
    "slideshow": {
     "slide_type": "-"
    }
   },
   "outputs": [
    {
     "name": "stdout",
     "output_type": "stream",
     "text": [
      "5\n",
      "6\n",
      "7\n",
      "8\n",
      "9\n",
      "10\n",
      "11\n",
      "12\n",
      "13\n",
      "14\n"
     ]
    }
   ],
   "source": [
    "import increment\n",
    "increment.test(4)"
   ]
  },
  {
   "cell_type": "markdown",
   "metadata": {
    "scrolled": true,
    "slideshow": {
     "slide_type": "subslide"
    }
   },
   "source": [
    "## Transformer le texte lu en entrée\n",
    "\n",
    "- On peut aussi imaginer vouloir lire (et décoder) des fichiers Python chiffrés\n",
    "    - En guise de chiffrement j'utiliserai ici du rot-13 🙃\n",
    "\n",
    "- On pourra là encore faire appel à un `FileLoader`"
   ]
  },
  {
   "cell_type": "markdown",
   "metadata": {
    "scrolled": true,
    "slideshow": {
     "slide_type": "subslide"
    }
   },
   "source": [
    "## Transformer le texte lu en entrée\n",
    "\n",
    "- Idem, le _loader_ transforme la source et est branché à un _finder_"
   ]
  },
  {
   "cell_type": "code",
   "execution_count": 45,
   "metadata": {
    "scrolled": true,
    "slideshow": {
     "slide_type": "-"
    }
   },
   "outputs": [],
   "source": [
    "import codecs\n",
    "import importlib.machinery\n",
    "\n",
    "\n",
    "class Rot13Loader(importlib.abc.FileLoader):\n",
    "    def get_source(self, fullname):\n",
    "        data = self.get_data(self.get_filename(fullname))\n",
    "        return codecs.encode(data.decode(), 'rot_13')\n",
    "\n",
    "\n",
    "path_hook = importlib.machinery.FileFinder.path_hook(\n",
    "    (importlib.machinery.SourceFileLoader, ['.py']),\n",
    "    (Rot13Loader, ['.pyr']),\n",
    ")\n",
    "sys.path_hooks.insert(0, path_hook)\n",
    "sys.path_importer_cache.clear()"
   ]
  },
  {
   "cell_type": "markdown",
   "metadata": {
    "scrolled": true,
    "slideshow": {
     "slide_type": "subslide"
    }
   },
   "source": [
    "## Transformer le texte lu en entrée\n",
    "\n",
    "- Qui permet d'importer des fichiers `.pyr`"
   ]
  },
  {
   "cell_type": "code",
   "execution_count": 46,
   "metadata": {
    "scrolled": true,
    "slideshow": {
     "slide_type": "-"
    }
   },
   "outputs": [
    {
     "name": "stdout",
     "output_type": "stream",
     "text": [
      "Writing secret.pyr\n"
     ]
    }
   ],
   "source": [
    "%%writefile secret.pyr\n",
    "qrs gbgb():\n",
    "    erghea 4"
   ]
  },
  {
   "cell_type": "code",
   "execution_count": 47,
   "metadata": {
    "scrolled": true,
    "slideshow": {
     "slide_type": "-"
    }
   },
   "outputs": [
    {
     "data": {
      "text/plain": [
       "4"
      ]
     },
     "execution_count": 47,
     "metadata": {},
     "output_type": "execute_result"
    }
   ],
   "source": [
    "import secret\n",
    "secret.toto()"
   ]
  },
  {
   "cell_type": "code",
   "execution_count": 48,
   "metadata": {
    "scrolled": true,
    "slideshow": {
     "slide_type": "-"
    }
   },
   "outputs": [
    {
     "name": "stdout",
     "output_type": "stream",
     "text": [
      "Writing secret2.pyr\n"
     ]
    }
   ],
   "source": [
    "%%writefile secret2.pyr\n",
    "qrs gbgb():\n",
    "    erghea 42"
   ]
  },
  {
   "cell_type": "code",
   "execution_count": 49,
   "metadata": {
    "scrolled": true,
    "slideshow": {
     "slide_type": "-"
    }
   },
   "outputs": [
    {
     "data": {
      "text/plain": [
       "42"
      ]
     },
     "execution_count": 49,
     "metadata": {},
     "output_type": "execute_result"
    }
   ],
   "source": [
    "import secret2\n",
    "secret2.toto()"
   ]
  },
  {
   "cell_type": "markdown",
   "metadata": {
    "scrolled": true,
    "slideshow": {
     "slide_type": "subslide"
    }
   },
   "source": [
    "## Import brainfuck\n",
    "\n",
    "- Enfin on peut étendre le mécanisme d'imports pour gérer d'autres langages que Python\n",
    "- Par exemple un interpréteur brainfuck sous forme de _loader_"
   ]
  },
  {
   "cell_type": "code",
   "execution_count": 50,
   "metadata": {
    "scrolled": true,
    "slideshow": {
     "slide_type": "-"
    }
   },
   "outputs": [],
   "source": [
    "import ast\n",
    "import pathlib\n",
    "\n",
    "# définition des opérateurs\n",
    "OPS = {\n",
    "    '>': ast.parse('cur += 1').body,\n",
    "    '<': ast.parse('cur -= 1').body,\n",
    "    '+': ast.parse('mem[cur] = mem.get(cur, 0) + 1').body,\n",
    "    '-': ast.parse('mem[cur] = mem.get(cur, 0) - 1').body,\n",
    "    '.': ast.parse('print(chr(mem.get(cur, 0)), end=\"\")').body,\n",
    "    'init': ast.parse('mem, cur = {}, 0').body,\n",
    "    'test': ast.parse('mem.get(cur, 0)').body[0].value,\n",
    "}"
   ]
  },
  {
   "cell_type": "markdown",
   "metadata": {
    "scrolled": true,
    "slideshow": {
     "slide_type": "subslide"
    }
   },
   "source": [
    "## Import brainfuck\n",
    "\n",
    "- On fournit un _loader_ basique qui implémente juste `exec_module`"
   ]
  },
  {
   "cell_type": "code",
   "execution_count": 51,
   "metadata": {
    "scrolled": true,
    "slideshow": {
     "slide_type": "-"
    }
   },
   "outputs": [],
   "source": [
    "class BrainfuckLoader(importlib.abc.Loader):\n",
    "\n",
    "    def __init__(self, fullname, path):\n",
    "        self.path = pathlib.Path(path)\n",
    "\n",
    "    def exec_module(self, module):\n",
    "        content = self.path.read_text()\n",
    "        body = parse_body(content)\n",
    "        tree = parse_tree(body)\n",
    "        code = compile(tree, self.path, 'exec')\n",
    "        exec(code, module.__dict__)"
   ]
  },
  {
   "cell_type": "markdown",
   "metadata": {
    "scrolled": true,
    "slideshow": {
     "slide_type": "subslide"
    }
   },
   "source": [
    "## Import brainfuck\n",
    "\n",
    "- Et une fonction qui transforme les _tokens_ brainfuck en nœuds AST Python"
   ]
  },
  {
   "cell_type": "code",
   "execution_count": 52,
   "metadata": {
    "scrolled": true,
    "slideshow": {
     "slide_type": "-"
    }
   },
   "outputs": [],
   "source": [
    "def parse_body(content):\n",
    "    body = [*OPS['init']]\n",
    "    stack = [body]\n",
    "\n",
    "    for char in content:\n",
    "        current = stack[-1]\n",
    "        match char:\n",
    "            case '[':\n",
    "                loop = ast.While(\n",
    "                    test=OPS['test'],\n",
    "                    body=[ast.Pass()],\n",
    "                    orelse=[],\n",
    "                )\n",
    "                current.append(loop)\n",
    "                stack.append(loop.body)\n",
    "            case ']':\n",
    "                stack.pop()\n",
    "            case c if c in OPS:\n",
    "                current.extend(OPS[c])\n",
    "            case ' ' | '\\n':\n",
    "                pass\n",
    "            case _:\n",
    "                raise SyntaxError\n",
    "\n",
    "    return body"
   ]
  },
  {
   "cell_type": "markdown",
   "metadata": {
    "scrolled": true,
    "slideshow": {
     "slide_type": "subslide"
    }
   },
   "source": [
    "## Import brainfuck\n",
    "\n",
    "- Que l'on intègre à un AST de module contenant une fonction (`run`), ensuite compilé"
   ]
  },
  {
   "cell_type": "code",
   "execution_count": 53,
   "metadata": {
    "scrolled": true,
    "slideshow": {
     "slide_type": "-"
    }
   },
   "outputs": [],
   "source": [
    "def parse_tree(body):\n",
    "    tree = ast.Module(\n",
    "        body=[\n",
    "            ast.FunctionDef(\n",
    "                name='run',\n",
    "                args=ast.arguments(posonlyargs=[], args=[], kwonlyargs=[], kw_defaults=[], defaults=[]),\n",
    "                decorator_list=[],\n",
    "                body=body,\n",
    "            ),\n",
    "        ],\n",
    "        type_ignores=[],\n",
    "    )\n",
    "\n",
    "    ast.fix_missing_locations(tree)\n",
    "    return tree"
   ]
  },
  {
   "cell_type": "markdown",
   "metadata": {
    "scrolled": true,
    "slideshow": {
     "slide_type": "subslide"
    }
   },
   "source": [
    "## Import brainfuck\n",
    "\n",
    "- À nouveau le _loader_ est configuré dans les _path hooks_"
   ]
  },
  {
   "cell_type": "code",
   "execution_count": 54,
   "metadata": {
    "scrolled": true,
    "slideshow": {
     "slide_type": "-"
    }
   },
   "outputs": [],
   "source": [
    "path_hook = importlib.machinery.FileFinder.path_hook(\n",
    "    (importlib.machinery.SourceFileLoader, ['.py']),\n",
    "    (BrainfuckLoader, ['.bf']),\n",
    ")\n",
    "sys.path_hooks.insert(0, path_hook)\n",
    "sys.path_importer_cache.clear()"
   ]
  },
  {
   "cell_type": "markdown",
   "metadata": {
    "scrolled": true,
    "slideshow": {
     "slide_type": "subslide"
    }
   },
   "source": [
    "## Import brainfuck\n",
    "\n",
    "- Et permet d'importer notre fichier markdown et d'en exposer une fonction `run`"
   ]
  },
  {
   "cell_type": "code",
   "execution_count": 55,
   "metadata": {
    "scrolled": true,
    "slideshow": {
     "slide_type": "-"
    }
   },
   "outputs": [
    {
     "name": "stdout",
     "output_type": "stream",
     "text": [
      "Writing hello.bf\n"
     ]
    }
   ],
   "source": [
    "%%writefile hello.bf\n",
    "++++++++++[>+++++++>++++++++++>+++>+<<<<-]>++.>+.+++++++..+++.>++.<<+++++++++++++++.>.+++.------.--------.>+.>."
   ]
  },
  {
   "cell_type": "code",
   "execution_count": 56,
   "metadata": {
    "scrolled": true,
    "slideshow": {
     "slide_type": "-"
    }
   },
   "outputs": [
    {
     "name": "stdout",
     "output_type": "stream",
     "text": [
      "Hello World!\n"
     ]
    }
   ],
   "source": [
    "import hello\n",
    "hello.run()"
   ]
  },
  {
   "cell_type": "markdown",
   "metadata": {
    "scrolled": true,
    "slideshow": {
     "slide_type": "slide"
    }
   },
   "source": [
    "# Découvrir des modules ailleurs que dans les fichiers"
   ]
  },
  {
   "cell_type": "markdown",
   "metadata": {
    "scrolled": true,
    "slideshow": {
     "slide_type": "subslide"
    }
   },
   "source": [
    "## Découvrir des modules ailleurs que dans les fichiers\n",
    "\n",
    "- On a jusqu'ici utilisé `FileFinder` pour découvrir nos modules\n",
    "- Celui-ci s'appuie sur des répertoires (ou apparentés) sur le système de fichiers pour les localiser\n",
    "    - Ils reposent pour cela sur `PathEntryFinder`"
   ]
  },
  {
   "cell_type": "markdown",
   "metadata": {
    "scrolled": true,
    "slideshow": {
     "slide_type": "fragment"
    }
   },
   "source": [
    "- Mais il est possible d'imaginer d'autres manières de découvrir des modules"
   ]
  },
  {
   "cell_type": "markdown",
   "metadata": {
    "scrolled": true,
    "slideshow": {
     "slide_type": "subslide"
    }
   },
   "source": [
    "## Meta-path\n",
    "\n",
    "- `sys.meta_path` liste les _meta finders_ utilisés par Python pour rechercher un module\n",
    "    - Ceux-ci implémentent l'interface de `MetaPathFinder`\n",
    "    - Très proche de `PathEntryFinder`, elle demande une méthode `find_spec` recevant le nom du module et son chemin"
   ]
  },
  {
   "cell_type": "code",
   "execution_count": 57,
   "metadata": {
    "scrolled": true,
    "slideshow": {
     "slide_type": "-"
    }
   },
   "outputs": [
    {
     "data": {
      "text/plain": [
       "[_frozen_importlib.BuiltinImporter,\n",
       " _frozen_importlib.FrozenImporter,\n",
       " _frozen_importlib_external.PathFinder,\n",
       " <six._SixMetaPathImporter at 0x781d5c08f260>]"
      ]
     },
     "execution_count": 57,
     "metadata": {},
     "output_type": "execute_result"
    }
   ],
   "source": [
    "sys.meta_path"
   ]
  },
  {
   "cell_type": "markdown",
   "metadata": {
    "scrolled": true,
    "slideshow": {
     "slide_type": "fragment"
    }
   },
   "source": [
    "- On remarque que `PathFinder` (et donc les mécanismes liés à `sys.path` et `sys.meta_path`) est lui aussi une entrée _meta path_"
   ]
  },
  {
   "cell_type": "markdown",
   "metadata": {
    "scrolled": true,
    "slideshow": {
     "slide_type": "subslide"
    }
   },
   "source": [
    "## Imports installables\n",
    "\n",
    "- On peut concervoir un mécanisme d'import s'assurant qu'un paquet est installé\n",
    "- Pour cela le _finder_ peut faire appel à `pip` afin d'installer un paquet manquant"
   ]
  },
  {
   "cell_type": "code",
   "execution_count": 58,
   "metadata": {
    "scrolled": true,
    "slideshow": {
     "slide_type": "fragment"
    }
   },
   "outputs": [],
   "source": [
    "import subprocess\n",
    "\n",
    "\n",
    "class PipFinder(importlib.abc.MetaPathFinder):\n",
    "    def __init__(self, *allowed_modules):\n",
    "        self.allowed_modules = set(allowed_modules)\n",
    "\n",
    "    def find_spec(self, fullname, path, target=None):\n",
    "        if fullname not in self.allowed_modules:\n",
    "            return None\n",
    "\n",
    "        print('Installing', fullname)\n",
    "        subprocess.run(['pip', 'install', fullname])\n",
    "\n",
    "        return importlib.util.find_spec(fullname)"
   ]
  },
  {
   "cell_type": "markdown",
   "metadata": {
    "scrolled": true,
    "slideshow": {
     "slide_type": "subslide"
    }
   },
   "source": [
    "## Imports installables\n",
    "\n",
    "- On ajoute ensuite le _finder_ au _meta-path_ (en dernière position) pour le rendre accessible"
   ]
  },
  {
   "cell_type": "code",
   "execution_count": 59,
   "metadata": {
    "scrolled": true,
    "slideshow": {
     "slide_type": "-"
    }
   },
   "outputs": [
    {
     "name": "stdout",
     "output_type": "stream",
     "text": [
      "Installing requests\n",
      "Collecting requests\n",
      "  Using cached requests-2.32.3-py3-none-any.whl.metadata (4.6 kB)\n",
      "Requirement already satisfied: charset-normalizer<4,>=2 in /home/antoine/Perso/presentation_imports/env/lib/python3.12/site-packages (from requests) (3.3.2)\n",
      "Requirement already satisfied: idna<4,>=2.5 in /home/antoine/Perso/presentation_imports/env/lib/python3.12/site-packages (from requests) (3.8)\n",
      "Requirement already satisfied: urllib3<3,>=1.21.1 in /home/antoine/Perso/presentation_imports/env/lib/python3.12/site-packages (from requests) (2.2.2)\n",
      "Requirement already satisfied: certifi>=2017.4.17 in /home/antoine/Perso/presentation_imports/env/lib/python3.12/site-packages (from requests) (2024.8.30)\n",
      "Using cached requests-2.32.3-py3-none-any.whl (64 kB)\n",
      "Installing collected packages: requests\n",
      "Successfully installed requests-2.32.3\n"
     ]
    },
    {
     "name": "stderr",
     "output_type": "stream",
     "text": [
      "\n",
      "\u001b[1m[\u001b[0m\u001b[34;49mnotice\u001b[0m\u001b[1;39;49m]\u001b[0m\u001b[39;49m A new release of pip is available: \u001b[0m\u001b[31;49m24.0\u001b[0m\u001b[39;49m -> \u001b[0m\u001b[32;49m24.3.1\u001b[0m\n",
      "\u001b[1m[\u001b[0m\u001b[34;49mnotice\u001b[0m\u001b[1;39;49m]\u001b[0m\u001b[39;49m To update, run: \u001b[0m\u001b[32;49mpip install --upgrade pip\u001b[0m\n",
      "/home/antoine/Perso/presentation_imports/env/lib/python3.12/site-packages/requests/__init__.py:86: RequestsDependencyWarning: Unable to find acceptable character detection dependency (chardet or charset_normalizer).\n",
      "  warnings.warn(\n"
     ]
    },
    {
     "name": "stdout",
     "output_type": "stream",
     "text": [
      "<Response [200]>\n"
     ]
    }
   ],
   "source": [
    "sys.meta_path.append(PipFinder('requests'))\n",
    "\n",
    "import requests\n",
    "print(requests.get('https://pycon.fr'))"
   ]
  },
  {
   "cell_type": "markdown",
   "metadata": {
    "scrolled": true,
    "slideshow": {
     "slide_type": "subslide"
    }
   },
   "source": [
    "## Imports réseau\n",
    "\n",
    "- Si on s'abstrait du système de fichiers, on peut aussi envisager des imports via le réseau\n",
    "- En disposant par exemple d'un serveur HTTP exposant des modules"
   ]
  },
  {
   "cell_type": "code",
   "execution_count": 60,
   "metadata": {
    "scrolled": true,
    "slideshow": {
     "slide_type": "fragment"
    }
   },
   "outputs": [],
   "source": [
    "import http.server\n",
    "import threading\n",
    "\n",
    "\n",
    "class ServerHandler(http.server.BaseHTTPRequestHandler):\n",
    "    files = {\n",
    "        'remote.py': b'def test():\\n    print(\"Hello\")'\n",
    "    }\n",
    "\n",
    "    def do_GET(self):\n",
    "        filename = self.path[1:]\n",
    "        content = self.files.get(filename)\n",
    "        if content is None:\n",
    "            self.send_error(404)\n",
    "        else:\n",
    "            self.send_response(200)\n",
    "            self.end_headers()\n",
    "            self.wfile.write(content)\n",
    "\n",
    "    def do_HEAD(self):\n",
    "        filename = self.path[1:]\n",
    "        if filename in self.files:\n",
    "            self.send_response(200)\n",
    "            self.end_headers()\n",
    "        else:\n",
    "            self.send_error(404)"
   ]
  },
  {
   "cell_type": "markdown",
   "metadata": {
    "scrolled": true,
    "slideshow": {
     "slide_type": "subslide"
    }
   },
   "source": [
    "## Imports réseau\n",
    "\n",
    "- Que l'on lancerait ici dans un _thread_ dédié, mais qu'on pourrait imaginer tourner sur un serveur distant (RPC)"
   ]
  },
  {
   "cell_type": "code",
   "execution_count": 61,
   "metadata": {
    "scrolled": true,
    "slideshow": {
     "slide_type": "-"
    }
   },
   "outputs": [
    {
     "name": "stderr",
     "output_type": "stream",
     "text": [
      "127.0.0.1 - - [03/Nov/2024 08:04:07] \"HEAD /remote.py HTTP/1.1\" 200 -\n",
      "127.0.0.1 - - [03/Nov/2024 08:04:07] \"GET /remote.py HTTP/1.1\" 200 -\n",
      "127.0.0.1 - - [03/Nov/2024 08:04:10] code 404, message Not Found\n",
      "127.0.0.1 - - [03/Nov/2024 08:04:10] \"HEAD /dynamic__foo_bar__toto_tata.py HTTP/1.1\" 404 -\n"
     ]
    }
   ],
   "source": [
    "server = http.server.HTTPServer(('', 8080), ServerHandler)\n",
    "thr = threading.Thread(target=server.serve_forever)\n",
    "thr.start()"
   ]
  },
  {
   "cell_type": "markdown",
   "metadata": {
    "scrolled": true,
    "slideshow": {
     "slide_type": "subslide"
    }
   },
   "source": [
    "## Imports réseau\n",
    "\n",
    "- On utilise alors un _finder_ simple s'appuyant sur un _loader_ pour la partie réseau"
   ]
  },
  {
   "cell_type": "code",
   "execution_count": 62,
   "metadata": {
    "scrolled": true,
    "slideshow": {
     "slide_type": "-"
    }
   },
   "outputs": [],
   "source": [
    "class NetworkFinder(importlib.abc.MetaPathFinder):\n",
    "    def __init__(self, baseurl):\n",
    "        self.loader = NetworkLoader(baseurl)\n",
    "\n",
    "    def find_spec(self, fullname, path, target=None):\n",
    "        if self.loader.exists(fullname):\n",
    "            return importlib.util.spec_from_loader(fullname, self.loader)"
   ]
  },
  {
   "cell_type": "markdown",
   "metadata": {
    "scrolled": true,
    "slideshow": {
     "slide_type": "subslide"
    }
   },
   "source": [
    "## Imports réseau\n",
    "\n",
    "- Le _loader_ interroge le serveur configuré pour obtenir le code source des modules"
   ]
  },
  {
   "cell_type": "code",
   "execution_count": 63,
   "metadata": {
    "scrolled": true,
    "slideshow": {
     "slide_type": "-"
    }
   },
   "outputs": [],
   "source": [
    "import urllib\n",
    "\n",
    "\n",
    "class NetworkLoader(importlib.abc.SourceLoader):\n",
    "    def __init__(self, baseurl):\n",
    "        self.baseurl = baseurl\n",
    "\n",
    "    def get_url(self, fullname):\n",
    "        return f'{self.baseurl}/{fullname}.py'\n",
    "\n",
    "    def get_data(self, url):\n",
    "        with urllib.request.urlopen(url) as f:\n",
    "            return f.read()\n",
    "\n",
    "    def get_filename(self, name):\n",
    "        return f'{self.get_url(name)}'\n",
    "\n",
    "    def exists(self, name):\n",
    "        req = urllib.request.Request(self.get_url(name), method='HEAD')\n",
    "        try:\n",
    "            with urllib.request.urlopen(req) as f:\n",
    "                pass\n",
    "        except:\n",
    "            return False\n",
    "        return f.status == 200"
   ]
  },
  {
   "cell_type": "markdown",
   "metadata": {
    "scrolled": true,
    "slideshow": {
     "slide_type": "subslide"
    }
   },
   "source": [
    "## Imports réseau\n",
    "\n",
    "- Il suffit alors de créer une entrée pour notre serveur précédemment instancié"
   ]
  },
  {
   "cell_type": "code",
   "execution_count": 64,
   "metadata": {
    "scrolled": true,
    "slideshow": {
     "slide_type": "-"
    }
   },
   "outputs": [
    {
     "name": "stdout",
     "output_type": "stream",
     "text": [
      "Hello\n"
     ]
    }
   ],
   "source": [
    "sys.meta_path.append(NetworkFinder('http://localhost:8080'))\n",
    "\n",
    "import remote\n",
    "remote.test()"
   ]
  },
  {
   "cell_type": "markdown",
   "metadata": {
    "scrolled": true,
    "slideshow": {
     "slide_type": "subslide"
    }
   },
   "source": [
    "## Imports dynamiques\n",
    "\n",
    "- Enfin on peut exploiter le mécanisme des _loaders_ pour charger le code du module à la volée\n",
    "- Par exemple un module qui définirait ses attributs en fonction de son nom"
   ]
  },
  {
   "cell_type": "code",
   "execution_count": 65,
   "metadata": {
    "scrolled": true,
    "slideshow": {
     "slide_type": "-"
    }
   },
   "outputs": [],
   "source": [
    "class DynamicFinder(importlib.abc.MetaPathFinder):\n",
    "    def find_spec(self, fullname, path, target=None):\n",
    "        if fullname.startswith('dynamic__'):\n",
    "            parts = fullname.split('__')[1:]\n",
    "            attributes = dict(part.split('_') for part in parts)\n",
    "            return importlib.util.spec_from_loader(\n",
    "                fullname,\n",
    "                DynamicLoader(attributes)\n",
    "            )"
   ]
  },
  {
   "cell_type": "markdown",
   "metadata": {
    "scrolled": true,
    "slideshow": {
     "slide_type": "subslide"
    }
   },
   "source": [
    "## Imports dynamiques\n",
    "\n",
    "- Avec le _loader_ associé"
   ]
  },
  {
   "cell_type": "code",
   "execution_count": 66,
   "metadata": {
    "scrolled": true,
    "slideshow": {
     "slide_type": "-"
    }
   },
   "outputs": [],
   "source": [
    "class DynamicLoader(importlib.abc.Loader):\n",
    "    def __init__(self, attributes):\n",
    "        self.attributes = attributes\n",
    "\n",
    "    def exec_module(self, module):\n",
    "        module.__dict__.update(self.attributes)"
   ]
  },
  {
   "cell_type": "code",
   "execution_count": 67,
   "metadata": {
    "scrolled": true,
    "slideshow": {
     "slide_type": "-"
    }
   },
   "outputs": [
    {
     "name": "stdout",
     "output_type": "stream",
     "text": [
      "<module 'dynamic__foo_bar__toto_tata' (<__main__.DynamicLoader object at 0x781d5aa62cc0>)>\n",
      "bar\n",
      "tata\n"
     ]
    }
   ],
   "source": [
    "sys.meta_path.append(DynamicFinder())\n",
    "\n",
    "import dynamic__foo_bar__toto_tata as mod\n",
    "print(mod)\n",
    "print(mod.foo)\n",
    "print(mod.toto)"
   ]
  },
  {
   "cell_type": "markdown",
   "metadata": {
    "scrolled": true,
    "slideshow": {
     "slide_type": "subslide"
    }
   },
   "source": [
    "## Autres exemples\n",
    "\n",
    "- Les exemples des précédents chapitres (_path hooks_, extensions particulières) peuvent être réécrits à l'aide de _meta finders_\n",
    "    - Mais ils nécessitent alors que chaque _finder_ se charge de parcourir `sys.path` pour itérer sur les répertoires"
   ]
  },
  {
   "cell_type": "markdown",
   "metadata": {
    "scrolled": true,
    "slideshow": {
     "slide_type": "fragment"
    }
   },
   "source": [
    "- On peut aussi imaginer d'autres manières de générer du code à la volée\n",
    "    - Import _copilot_ : <https://pypi.org/project/copilot-import/>"
   ]
  },
  {
   "cell_type": "markdown",
   "metadata": {
    "scrolled": true,
    "slideshow": {
     "slide_type": "slide"
    }
   },
   "source": [
    "# Conclusion"
   ]
  },
  {
   "cell_type": "markdown",
   "metadata": {
    "scrolled": true,
    "slideshow": {
     "slide_type": "subslide"
    }
   },
   "source": [
    "## L'import en bref\n",
    "\n",
    "- Vue d'ensemble des étapes lors d'un import :\n",
    "    1. Résolution du nom du module\n",
    "    2. Recherche du module dans le cache (court-circuit si trouvé)\n",
    "    3. Résolution des modules parents dans le cas d'un paquet\n",
    "    4. Identification de la spécification du module (_finder_)\n",
    "    5. Chargement du module (_loader_)\n",
    "    6. Stockage dans le cache\n",
    "    7. Exécution du code du module (_loader_)\n",
    "\n",
    "- <https://docs.python.org/3/library/importlib.html#approximating-importlib-import-module>"
   ]
  },
  {
   "cell_type": "markdown",
   "metadata": {
    "scrolled": true,
    "slideshow": {
     "slide_type": "subslide"
    }
   },
   "source": [
    "## Conclusion\n",
    "\n",
    "- Le mécanisme d'imports est paramétrable à de multiples niveaux\n",
    "- Et permet de tordre Python comme on le veut"
   ]
  },
  {
   "cell_type": "markdown",
   "metadata": {
    "scrolled": true,
    "slideshow": {
     "slide_type": "subslide"
    }
   },
   "source": [
    "## Liens utiles\n",
    "\n",
    "- Quelques liens utiles\n",
    "    - <https://peps.python.org/pep-0302/>\n",
    "    - <https://peps.python.org/pep-0451/>\n",
    "    - <https://docs.python.org/3/reference/import.html>\n",
    "    - <https://docs.python.org/3/library/importlib.html>"
   ]
  },
  {
   "cell_type": "markdown",
   "metadata": {
    "scrolled": true,
    "slideshow": {
     "slide_type": "fragment"
    }
   },
   "source": [
    "- Et retrouvez les sources de cette présentation\n",
    "    - <https://github.com/entwanne/presentation_imports>"
   ]
  },
  {
   "cell_type": "markdown",
   "metadata": {
    "scrolled": true,
    "slideshow": {
     "slide_type": "subslide"
    }
   },
   "source": [
    "## Questions ?"
   ]
  }
 ],
 "metadata": {
  "celltoolbar": "Slideshow",
  "kernelspec": {
   "display_name": "Python 3 (ipykernel)",
   "language": "python",
   "name": "python3"
  },
  "language_info": {
   "codemirror_mode": {
    "name": "ipython",
    "version": 3
   },
   "file_extension": ".py",
   "mimetype": "text/x-python",
   "name": "python",
   "nbconvert_exporter": "python",
   "pygments_lexer": "ipython3",
   "version": "3.12.7"
  },
  "livereveal": {
   "autolaunch": false
  }
 },
 "nbformat": 4,
 "nbformat_minor": 2
}
